{
  "cells": [
    {
      "cell_type": "markdown",
      "metadata": {
        "id": "view-in-github",
        "colab_type": "text"
      },
      "source": [
        "<a href=\"https://colab.research.google.com/github/aghand0ur/alighandour-website/blob/main/move2gcp.ipynb\" target=\"_parent\"><img src=\"https://colab.research.google.com/assets/colab-badge.svg\" alt=\"Open In Colab\"/></a>"
      ]
    },
    {
      "cell_type": "code",
      "execution_count": null,
      "id": "ff706a86",
      "metadata": {
        "id": "ff706a86"
      },
      "outputs": [],
      "source": [
        "! pip install google-colab"
      ]
    },
    {
      "cell_type": "code",
      "source": [
        "from google.colab import drive\n",
        "drive.mount('/content/drive')"
      ],
      "metadata": {
        "colab": {
          "base_uri": "https://localhost:8080/"
        },
        "id": "olOWO7qBv9ft",
        "outputId": "d9e7d3f7-fa67-4d96-c49b-23f205a9e984"
      },
      "id": "olOWO7qBv9ft",
      "execution_count": 5,
      "outputs": [
        {
          "output_type": "stream",
          "name": "stdout",
          "text": [
            "Mounted at /content/drive\n"
          ]
        }
      ]
    },
    {
      "cell_type": "code",
      "execution_count": 6,
      "id": "1751cd32",
      "metadata": {
        "colab": {
          "base_uri": "https://localhost:8080/"
        },
        "id": "1751cd32",
        "outputId": "4ad1f41d-8751-44ab-a97c-4280a4238097"
      },
      "outputs": [
        {
          "output_type": "stream",
          "name": "stdout",
          "text": [
            "Downloading...\n",
            "From (original): https://drive.google.com/uc?id=1iVnP4gjw-iHXa0KerZQ1IfIO0i1jADsR\n",
            "From (redirected): https://drive.google.com/uc?id=1iVnP4gjw-iHXa0KerZQ1IfIO0i1jADsR&confirm=t&uuid=02fe1730-6fc6-4594-84a6-ecdb5cb97b47\n",
            "To: /content/University1652.zip\n",
            "100% 9.20G/9.20G [01:49<00:00, 83.9MB/s]\n"
          ]
        }
      ],
      "source": [
        "!gdown 1iVnP4gjw-iHXa0KerZQ1IfIO0i1jADsR -O '/content/University1652.zip'"
      ]
    },
    {
      "cell_type": "code",
      "execution_count": 7,
      "id": "0d63f6a6",
      "metadata": {
        "colab": {
          "base_uri": "https://localhost:8080/"
        },
        "id": "0d63f6a6",
        "outputId": "26aa57b1-94ae-47a0-dfcb-3293f11d410f"
      },
      "outputs": [
        {
          "output_type": "stream",
          "name": "stdout",
          "text": [
            "Updated property [core/project].\n",
            "gs://bbtc/\n",
            "gs://beirut-typeassessment/\n",
            "gs://geo-localization/\n",
            "gs://lebanon-winterwheat-cloudfree/\n",
            "gs://nasa_harvest_boundary_detection_challenge/\n",
            "gs://tyr-dataset/\n"
          ]
        }
      ],
      "source": [
        "from google.colab import auth\n",
        "auth.authenticate_user()\n",
        "#project_id = 'rugged-habitat-253807'\n",
        "project_id = 'geoai-datasets-416916'\n",
        "! gcloud config set project {project_id}\n",
        "! gsutil ls"
      ]
    },
    {
      "cell_type": "code",
      "execution_count": 8,
      "id": "9f5a4c74",
      "metadata": {
        "colab": {
          "base_uri": "https://localhost:8080/"
        },
        "id": "9f5a4c74",
        "outputId": "a3a9e579-05e5-4028-cc1a-02f2a99ab9ae"
      },
      "outputs": [
        {
          "output_type": "stream",
          "name": "stdout",
          "text": [
            "/content\n"
          ]
        }
      ],
      "source": [
        "!pwd"
      ]
    },
    {
      "cell_type": "code",
      "execution_count": null,
      "id": "98eb10bc",
      "metadata": {
        "colab": {
          "base_uri": "https://localhost:8080/"
        },
        "id": "98eb10bc",
        "outputId": "e89abb6e-bf77-44f9-ff30-dd0fb576564d"
      },
      "outputs": [
        {
          "output_type": "stream",
          "name": "stdout",
          "text": [
            "Copying file:///content/University1652.zip [Content-Type=application/zip]...\n",
            "/ [0/1 files][    0.0 B/  8.6 GiB]   0% Done                                    \r==> NOTE: You are uploading one or more large file(s), which would run\n",
            "significantly faster if you enable parallel composite uploads. This\n",
            "feature can be enabled by editing the\n",
            "\"parallel_composite_upload_threshold\" value in your .boto\n",
            "configuration file. However, note that if you do this large files will\n",
            "be uploaded as `composite objects\n",
            "<https://cloud.google.com/storage/docs/composite-objects>`_,which\n",
            "means that any user who downloads such objects will need to have a\n",
            "compiled crcmod installed (see \"gsutil help crcmod\"). This is because\n",
            "without a compiled crcmod, computing checksums on composite objects is\n",
            "so slow that gsutil disables downloads of composite objects.\n",
            "\n"
          ]
        }
      ],
      "source": [
        "bucket_name = 'geo-localization'\n",
        "#!gsutil -m cp -r gs://myoic/xView2/xView2_dimassi/ /usr/local/tmp/\n",
        "!gsutil -m cp -r /content/University1652.zip gs://geo-localization/\n",
        "!echo \"Exited 0\""
      ]
    },
    {
      "cell_type": "code",
      "source": [],
      "metadata": {
        "id": "hOyyRwBvwNj0"
      },
      "id": "hOyyRwBvwNj0",
      "execution_count": null,
      "outputs": []
    }
  ],
  "metadata": {
    "environment": {
      "name": "pytorch-gpu.1-9.m72",
      "type": "gcloud",
      "uri": "gcr.io/deeplearning-platform-release/pytorch-gpu.1-9:m72"
    },
    "kernelspec": {
      "display_name": "Python 3",
      "language": "python",
      "name": "python3"
    },
    "language_info": {
      "codemirror_mode": {
        "name": "ipython",
        "version": 3
      },
      "file_extension": ".py",
      "mimetype": "text/x-python",
      "name": "python",
      "nbconvert_exporter": "python",
      "pygments_lexer": "ipython3",
      "version": "3.7.10"
    },
    "colab": {
      "provenance": [],
      "include_colab_link": true
    }
  },
  "nbformat": 4,
  "nbformat_minor": 5
}