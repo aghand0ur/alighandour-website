{
  "cells": [
    {
      "cell_type": "markdown",
      "metadata": {
        "id": "view-in-github",
        "colab_type": "text"
      },
      "source": [
        "<a href=\"https://colab.research.google.com/github/aghand0ur/alighandour-website/blob/main/move2gcp.ipynb\" target=\"_parent\"><img src=\"https://colab.research.google.com/assets/colab-badge.svg\" alt=\"Open In Colab\"/></a>"
      ]
    },
    {
      "cell_type": "code",
      "execution_count": 1,
      "id": "ff706a86",
      "metadata": {
        "id": "ff706a86",
        "colab": {
          "base_uri": "https://localhost:8080/"
        },
        "outputId": "7bfe7fb1-609e-45cf-84e5-6f4ffa0f9bb5"
      },
      "outputs": [
        {
          "output_type": "stream",
          "name": "stdout",
          "text": [
            "Installing collected packages: jedi\n",
            "Successfully installed jedi-0.19.2\n"
          ]
        }
      ],
      "source": [
        "! pip install google-colab"
      ]
    },
    {
      "cell_type": "code",
      "source": [
        "#from google.colab import drive\n",
        "#drive.mount('/content/drive')"
      ],
      "metadata": {
        "id": "olOWO7qBv9ft"
      },
      "id": "olOWO7qBv9ft",
      "execution_count": null,
      "outputs": []
    },
    {
      "cell_type": "code",
      "execution_count": null,
      "id": "1751cd32",
      "metadata": {
        "id": "1751cd32"
      },
      "outputs": [],
      "source": [
        "#!gdown 1iVnP4gjw-iHXa0KerZQ1IfIO0i1jADsR -O '/content/University1652.zip'"
      ]
    },
    {
      "cell_type": "code",
      "execution_count": 4,
      "id": "0d63f6a6",
      "metadata": {
        "id": "0d63f6a6",
        "colab": {
          "base_uri": "https://localhost:8080/"
        },
        "outputId": "4136470b-313f-4753-abf7-91dccbd967b7"
      },
      "outputs": [
        {
          "output_type": "stream",
          "name": "stdout",
          "text": [
            "Updated property [core/project].\n",
            "gs://banana-tr4/\n",
            "gs://bbtc/\n",
            "gs://beirut-typeassessment/\n",
            "gs://geo-localization/\n",
            "gs://lebanon-winterwheat-cloudfree/\n",
            "gs://methane-mapping/\n",
            "gs://nasa_harvest_boundary_detection_challenge/\n",
            "gs://tyr-dataset/\n"
          ]
        }
      ],
      "source": [
        "from google.colab import auth\n",
        "auth.authenticate_user()\n",
        "#project_id = 'rugged-habitat-253807'\n",
        "project_id = 'geoai-datasets-416916'\n",
        "! gcloud config set project {project_id}\n",
        "! gsutil ls"
      ]
    },
    {
      "cell_type": "code",
      "execution_count": null,
      "id": "9f5a4c74",
      "metadata": {
        "id": "9f5a4c74"
      },
      "outputs": [],
      "source": [
        "!pwd"
      ]
    },
    {
      "cell_type": "code",
      "execution_count": null,
      "id": "98eb10bc",
      "metadata": {
        "id": "98eb10bc"
      },
      "outputs": [],
      "source": [
        "#bucket_name = 'geo-localization'\n",
        "#!gsutil -m cp -r /content/University1652.zip gs://geo-localization/\n",
        "#!echo \"Exited 0\""
      ]
    },
    {
      "cell_type": "code",
      "source": [
        "bucket_name = 'geo-localization'\n",
        "#!gsutil -m cp -r gs://myoic/xView2/xView2_dimassi/ /usr/local/tmp/\n",
        "!gsutil -m cp -r gs://geo-localization/ /content/\n",
        "!echo \"Exited 0\""
      ],
      "metadata": {
        "id": "hOyyRwBvwNj0",
        "colab": {
          "base_uri": "https://localhost:8080/"
        },
        "outputId": "47eebf73-1490-4ad1-bef1-25a149760045"
      },
      "id": "hOyyRwBvwNj0",
      "execution_count": 5,
      "outputs": [
        {
          "output_type": "stream",
          "name": "stdout",
          "text": [
            "Copying gs://geo-localization/University160K_WX.zip...\n",
            "/ [0/2 files][    0.0 B/ 10.8 GiB]   0% Done                                    \rCopying gs://geo-localization/University1652.zip...\n",
            "/ [0/2 files][    0.0 B/ 10.8 GiB]   0% Done                                    \r==> NOTE: You are downloading one or more large file(s), which would\n",
            "run significantly faster if you enabled sliced object downloads. This\n",
            "feature is enabled by default but requires that compiled crcmod be\n",
            "installed (see \"gsutil help crcmod\").\n",
            "\n",
            "- [2/2 files][ 10.8 GiB/ 10.8 GiB] 100% Done  25.5 MiB/s ETA 00:00:00           \n",
            "Operation completed over 2 objects/10.8 GiB.                                     \n",
            "Exited 0\n"
          ]
        }
      ]
    },
    {
      "cell_type": "code",
      "source": [],
      "metadata": {
        "id": "dnIAW_VsPd_m"
      },
      "id": "dnIAW_VsPd_m",
      "execution_count": null,
      "outputs": []
    }
  ],
  "metadata": {
    "environment": {
      "name": "pytorch-gpu.1-9.m72",
      "type": "gcloud",
      "uri": "gcr.io/deeplearning-platform-release/pytorch-gpu.1-9:m72"
    },
    "kernelspec": {
      "display_name": "Python 3",
      "language": "python",
      "name": "python3"
    },
    "language_info": {
      "codemirror_mode": {
        "name": "ipython",
        "version": 3
      },
      "file_extension": ".py",
      "mimetype": "text/x-python",
      "name": "python",
      "nbconvert_exporter": "python",
      "pygments_lexer": "ipython3",
      "version": "3.7.10"
    },
    "colab": {
      "provenance": [],
      "include_colab_link": true
    }
  },
  "nbformat": 4,
  "nbformat_minor": 5
}